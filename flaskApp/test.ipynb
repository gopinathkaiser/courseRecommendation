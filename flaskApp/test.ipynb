{
 "cells": [
  {
   "cell_type": "code",
   "execution_count": 1,
   "metadata": {},
   "outputs": [],
   "source": [
    "from sklearn.ensemble import RandomForestClassifier\n",
    "from sklearn.preprocessing import LabelEncoder\n",
    "import numpy as np\n",
    "import pandas as pd\n",
    "from sklearn.model_selection import train_test_split\n"
   ]
  },
  {
   "cell_type": "code",
   "execution_count": 6,
   "metadata": {},
   "outputs": [],
   "source": [
    "df = pd.read_csv('new_dataframe.csv')\n",
    "# print(df.head())\n",
    "label_encoder = LabelEncoder()\n",
    "df['technical_interests'] = label_encoder.fit_transform(df['technical_interests'])\n",
    "df['interests'] = label_encoder.fit_transform(df['interests'])\n",
    "df['non_technical_interests'] = label_encoder.fit_transform(df['non_technical_interests'])\n",
    "df['achievements'] = label_encoder.fit_transform(df['achievements'])\n",
    "\n"
   ]
  },
  {
   "cell_type": "code",
   "execution_count": 7,
   "metadata": {},
   "outputs": [],
   "source": [
    "df = df.dropna()"
   ]
  },
  {
   "cell_type": "code",
   "execution_count": 8,
   "metadata": {},
   "outputs": [],
   "source": [
    "X = df.drop('career', axis=1)\n",
    "y = df['career']\n",
    "\n"
   ]
  },
  {
   "cell_type": "code",
   "execution_count": 9,
   "metadata": {},
   "outputs": [
    {
     "data": {
      "text/html": [
       "<div>\n",
       "<style scoped>\n",
       "    .dataframe tbody tr th:only-of-type {\n",
       "        vertical-align: middle;\n",
       "    }\n",
       "\n",
       "    .dataframe tbody tr th {\n",
       "        vertical-align: top;\n",
       "    }\n",
       "\n",
       "    .dataframe thead th {\n",
       "        text-align: right;\n",
       "    }\n",
       "</style>\n",
       "<table border=\"1\" class=\"dataframe\">\n",
       "  <thead>\n",
       "    <tr style=\"text-align: right;\">\n",
       "      <th></th>\n",
       "      <th>technical_interests</th>\n",
       "      <th>interests</th>\n",
       "      <th>non_technical_interests</th>\n",
       "      <th>achievements</th>\n",
       "    </tr>\n",
       "  </thead>\n",
       "  <tbody>\n",
       "    <tr>\n",
       "      <th>0</th>\n",
       "      <td>11</td>\n",
       "      <td>30</td>\n",
       "      <td>25</td>\n",
       "      <td>0</td>\n",
       "    </tr>\n",
       "    <tr>\n",
       "      <th>1</th>\n",
       "      <td>11</td>\n",
       "      <td>30</td>\n",
       "      <td>25</td>\n",
       "      <td>35</td>\n",
       "    </tr>\n",
       "    <tr>\n",
       "      <th>2</th>\n",
       "      <td>11</td>\n",
       "      <td>30</td>\n",
       "      <td>25</td>\n",
       "      <td>1</td>\n",
       "    </tr>\n",
       "    <tr>\n",
       "      <th>3</th>\n",
       "      <td>11</td>\n",
       "      <td>30</td>\n",
       "      <td>25</td>\n",
       "      <td>18</td>\n",
       "    </tr>\n",
       "    <tr>\n",
       "      <th>4</th>\n",
       "      <td>11</td>\n",
       "      <td>30</td>\n",
       "      <td>25</td>\n",
       "      <td>8</td>\n",
       "    </tr>\n",
       "    <tr>\n",
       "      <th>...</th>\n",
       "      <td>...</td>\n",
       "      <td>...</td>\n",
       "      <td>...</td>\n",
       "      <td>...</td>\n",
       "    </tr>\n",
       "    <tr>\n",
       "      <th>2559995</th>\n",
       "      <td>12</td>\n",
       "      <td>11</td>\n",
       "      <td>6</td>\n",
       "      <td>12</td>\n",
       "    </tr>\n",
       "    <tr>\n",
       "      <th>2559996</th>\n",
       "      <td>12</td>\n",
       "      <td>11</td>\n",
       "      <td>6</td>\n",
       "      <td>24</td>\n",
       "    </tr>\n",
       "    <tr>\n",
       "      <th>2559997</th>\n",
       "      <td>12</td>\n",
       "      <td>11</td>\n",
       "      <td>6</td>\n",
       "      <td>14</td>\n",
       "    </tr>\n",
       "    <tr>\n",
       "      <th>2559998</th>\n",
       "      <td>12</td>\n",
       "      <td>11</td>\n",
       "      <td>6</td>\n",
       "      <td>7</td>\n",
       "    </tr>\n",
       "    <tr>\n",
       "      <th>2559999</th>\n",
       "      <td>12</td>\n",
       "      <td>11</td>\n",
       "      <td>6</td>\n",
       "      <td>33</td>\n",
       "    </tr>\n",
       "  </tbody>\n",
       "</table>\n",
       "<p>2560000 rows × 4 columns</p>\n",
       "</div>"
      ],
      "text/plain": [
       "         technical_interests  interests  non_technical_interests  achievements\n",
       "0                         11         30                       25             0\n",
       "1                         11         30                       25            35\n",
       "2                         11         30                       25             1\n",
       "3                         11         30                       25            18\n",
       "4                         11         30                       25             8\n",
       "...                      ...        ...                      ...           ...\n",
       "2559995                   12         11                        6            12\n",
       "2559996                   12         11                        6            24\n",
       "2559997                   12         11                        6            14\n",
       "2559998                   12         11                        6             7\n",
       "2559999                   12         11                        6            33\n",
       "\n",
       "[2560000 rows x 4 columns]"
      ]
     },
     "execution_count": 9,
     "metadata": {},
     "output_type": "execute_result"
    }
   ],
   "source": [
    "X"
   ]
  },
  {
   "cell_type": "code",
   "execution_count": 5,
   "metadata": {},
   "outputs": [
    {
     "data": {
      "text/plain": [
       "0          28\n",
       "1          32\n",
       "2          30\n",
       "3          12\n",
       "4          15\n",
       "           ..\n",
       "2559995    17\n",
       "2559996    33\n",
       "2559997    17\n",
       "2559998     2\n",
       "2559999    24\n",
       "Name: career, Length: 2560000, dtype: int64"
      ]
     },
     "execution_count": 5,
     "metadata": {},
     "output_type": "execute_result"
    }
   ],
   "source": [
    "y"
   ]
  },
  {
   "cell_type": "code",
   "execution_count": 6,
   "metadata": {},
   "outputs": [],
   "source": [
    "X_train, X_test, y_train, y_test = train_test_split(X, y, test_size=0.2, random_state=42)"
   ]
  },
  {
   "cell_type": "code",
   "execution_count": 7,
   "metadata": {},
   "outputs": [
    {
     "ename": "",
     "evalue": "",
     "output_type": "error",
     "traceback": [
      "\u001b[1;31mThe Kernel crashed while executing code in the the current cell or a previous cell. Please review the code in the cell(s) to identify a possible cause of the failure. Click <a href='https://aka.ms/vscodeJupyterKernelCrash'>here</a> for more info. View Jupyter <a href='command:jupyter.viewOutput'>log</a> for further details."
     ]
    }
   ],
   "source": [
    "rf_model = RandomForestClassifier(n_estimators=100, random_state=42)\n",
    "\n",
    "# Train the model\n",
    "rf_model.fit(X_train, y_train)"
   ]
  },
  {
   "cell_type": "code",
   "execution_count": 13,
   "metadata": {},
   "outputs": [
    {
     "name": "stdout",
     "output_type": "stream",
     "text": [
      "          technical_interests          interests non_technical_interests  \\\n",
      "0                  blockchain  community service              creativity   \n",
      "1      mobile app development        photography              innovation   \n",
      "2                  statistics             sports               traveling   \n",
      "3             cloud computing          sociology               sociology   \n",
      "4                 electronics           business                  sports   \n",
      "...                       ...                ...                     ...   \n",
      "24995       operating systems            finance              philosophy   \n",
      "24996      data visualization         innovation               education   \n",
      "24997      data visualization            fitness               sociology   \n",
      "24998              blockchain              space                 cooking   \n",
      "24999              statistics           business                  design   \n",
      "\n",
      "                    achievements  career  \n",
      "0                 volunteer work      11  \n",
      "1               special projects      27  \n",
      "2                         awards      24  \n",
      "3        coding competition wins      24  \n",
      "4       writing competition wins      29  \n",
      "...                          ...     ...  \n",
      "24995        sports achievements      25  \n",
      "24996  environmental initiatives      11  \n",
      "24997                exhibitions      15  \n",
      "24998                exhibitions      18  \n",
      "24999  robotics competition wins      21  \n",
      "\n",
      "[25000 rows x 5 columns]\n"
     ]
    }
   ],
   "source": [
    "import pandas as pd\n",
    "import random\n",
    "\n",
    "data = {\n",
    "    \"technical_interests\": [\n",
    "        'coding', 'problem solving', 'logical thinking', 'statistics', 'ux/ui',\n",
    "        'data analysis', 'machine learning', 'artificial intelligence', 'robotics', 'cybersecurity',\n",
    "        'networking', 'cloud computing', 'web development', 'mobile app development', 'game development',\n",
    "        'database management', 'software testing', 'algorithm design', 'mathematics', 'physics',\n",
    "        'chemistry', 'biology', 'electronics', 'mechanics', 'digital logic design', 'computer architecture',\n",
    "        'operating systems', 'data visualization', 'natural language processing', 'computer vision',\n",
    "        'big data', 'blockchain', 'IoT', 'AR/VR', '3D printing', 'quantum computing', 'bioinformatics',\n",
    "        'computational biology', 'geographic information systems', 'computational biology'\n",
    "    ],\n",
    "    'interests': [\n",
    "        'science', 'anatomy', 'psychology', 'media and communications', 'video editing',\n",
    "        'history', 'literature', 'writing', 'sociology', 'politics',\n",
    "        'music', 'art', 'photography', 'fashion', 'design',\n",
    "        'technology', 'gaming', 'sports', 'cooking', 'traveling',\n",
    "        'nature', 'animals', 'space', 'philosophy', 'culture',\n",
    "        'languages', 'education', 'health', 'fitness', 'finance',\n",
    "        'business', 'entrepreneurship', 'leadership', 'innovation', 'creativity',\n",
    "        'social media', 'volunteering', 'community service', 'human rights', 'environmental sustainability'\n",
    "    ],\n",
    "    'non_technical_interests': [\n",
    "        'mathematics', 'physics', 'chemistry', 'management', 'entrepreneurship',\n",
    "        'economics', 'law', 'medicine', 'geography', 'architecture',\n",
    "        'history', 'literature', 'writing', 'sociology', 'politics',\n",
    "        'music', 'art', 'photography', 'fashion', 'design',\n",
    "        'technology', 'gaming', 'sports', 'cooking', 'traveling',\n",
    "        'nature', 'animals', 'space', 'philosophy', 'culture',\n",
    "        'languages', 'education', 'health', 'fitness', 'finance',\n",
    "        'business', 'entrepreneurship', 'leadership', 'innovation', 'creativity'\n",
    "    ],\n",
    "    'achievements': [\n",
    "        'academic excellence', 'sports achievements', 'artistic accomplishments', 'leadership roles',\n",
    "        'community service awards',\n",
    "        'public speaking awards', 'scientific research awards', 'literary awards', 'musical achievements',\n",
    "        'entrepreneurial ventures',\n",
    "        'volunteer work', 'internship experiences', 'travel experiences', 'cultural exchange programs',\n",
    "        'hackathon wins',\n",
    "        'coding competition wins', 'robotics competition wins', 'mathematics competition wins',\n",
    "        'science fair awards',\n",
    "        'debate competition wins',\n",
    "        'writing competition wins', 'publications', 'exhibitions', 'performances', 'patents',\n",
    "        'certifications', 'scholarships', 'grants', 'awards', 'recognition',\n",
    "        'special projects', 'startups', 'business ventures', 'charity work', 'social initiatives',\n",
    "        'environmental initiatives', 'philanthropic work', 'fundraising efforts', 'community building',\n",
    "        'social media influence'\n",
    "    ],\n",
    "    'career': [1, 9, 3, 13, 38, 12, 19, 37, 32, 30, 21, 28, 18, 5, 29, 14, 2, 20, 36, 25, 11, 16, 39, 31, 10,\n",
    "               34, 23, 7, 17, 24, 40, 22, 26, 33, 4, 15, 27, 6, 35, 8]\n",
    "}\n",
    "\n",
    "def generate_random_data(data, num_rows):\n",
    "    random_data = {\n",
    "        \"technical_interests\": [random.choice(data[\"technical_interests\"]) for _ in range(num_rows)],\n",
    "        \"interests\": [random.choice(data[\"interests\"]) for _ in range(num_rows)],\n",
    "        \"non_technical_interests\": [random.choice(data[\"non_technical_interests\"]) for _ in range(num_rows)],\n",
    "        \"achievements\": [random.choice(data[\"achievements\"]) for _ in range(num_rows)],\n",
    "        \"career\": [random.randint(1, 40) for _ in range(num_rows)]\n",
    "    }\n",
    "    return pd.DataFrame(random_data)\n",
    "\n",
    "num_rows = 25000  # Number of rows in the dataset\n",
    "random_df = generate_random_data(data, num_rows)\n",
    "print(random_df)\n"
   ]
  },
  {
   "cell_type": "code",
   "execution_count": 14,
   "metadata": {},
   "outputs": [],
   "source": [
    "random_df.to_csv('new_dataframe.csv', index=False)"
   ]
  },
  {
   "cell_type": "code",
   "execution_count": null,
   "metadata": {},
   "outputs": [],
   "source": []
  }
 ],
 "metadata": {
  "kernelspec": {
   "display_name": "Python 3",
   "language": "python",
   "name": "python3"
  },
  "language_info": {
   "codemirror_mode": {
    "name": "ipython",
    "version": 3
   },
   "file_extension": ".py",
   "mimetype": "text/x-python",
   "name": "python",
   "nbconvert_exporter": "python",
   "pygments_lexer": "ipython3",
   "version": "3.10.12"
  }
 },
 "nbformat": 4,
 "nbformat_minor": 2
}
